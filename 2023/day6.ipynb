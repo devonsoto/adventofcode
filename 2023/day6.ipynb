{
 "cells": [
  {
   "cell_type": "markdown",
   "id": "6b7b35ac",
   "metadata": {},
   "source": [
    "# Day 6"
   ]
  },
  {
   "cell_type": "code",
   "execution_count": 47,
   "id": "92f4c1f3",
   "metadata": {},
   "outputs": [
    {
     "name": "stdout",
     "output_type": "stream",
     "text": [
      "[49, 78, 79, 80]\n",
      "[298, 1185, 1066, 1181]\n",
      "298\n",
      "1185\n",
      "1066\n",
      "1181\n",
      "res [34, 37, 44, 41]\n",
      "2269432\n"
     ]
    }
   ],
   "source": [
    "data = open('./day6.txt','r')\n",
    "\n",
    "time_data = data.readlines(1)[0].split(':')[1].strip().split()\n",
    "time_data = [int(num) for num in time_data]\n",
    "print(time_data)\n",
    "\n",
    "distance_data = data.readlines(2)[0].split(':')[1].strip().split()\n",
    "distance_data = [int(num) for num in distance_data]\n",
    "print(distance_data)\n",
    "\n",
    "res = []\n",
    "\n",
    "for i in range(len(time_data)):\n",
    "    max_distance = distance_data[i]\n",
    "    count = 0\n",
    "    print(max_distance)\n",
    "    for j in range(time_data[i] + 1):\n",
    "        speed = j\n",
    "        distance = speed * (time_data[i] - j)\n",
    "        \n",
    "        if distance > max_distance:\n",
    "            count += 1\n",
    "        \n",
    "#         if \n",
    "#         print('distance', distance)\n",
    "    \n",
    "    if not count == 0:\n",
    "        res.append(count)\n",
    "    \n",
    "print('res', res)\n",
    "\n",
    "product = 1\n",
    "for num in res:\n",
    "    product *= num\n",
    "print(product)\n",
    "    "
   ]
  },
  {
   "cell_type": "markdown",
   "id": "d0ad1efb",
   "metadata": {},
   "source": [
    "# Part 2"
   ]
  },
  {
   "cell_type": "code",
   "execution_count": 65,
   "id": "a8450c48",
   "metadata": {},
   "outputs": [
    {
     "name": "stdout",
     "output_type": "stream",
     "text": [
      "['49', '78', '79', '80']\n",
      "['298', '1185', '1066', '1181']\n",
      "time 49787980\n",
      "distance 298118510661181\n",
      "break\n",
      "count 35865985\n"
     ]
    }
   ],
   "source": [
    "data = open('./day6.txt','r')\n",
    "\n",
    "time_data = data.readlines(1)[0].split(':')[1].strip().split()\n",
    "# time_data = [int(num) for num in time_data]\n",
    "print(time_data)\n",
    "\n",
    "distance_data = data.readlines(2)[0].split(':')[1].strip().split()\n",
    "# distance_data = [int(num) for num in distance_data]\n",
    "print(distance_data)\n",
    "\n",
    "res = []\n",
    "time = ''\n",
    "for num in time_data:\n",
    "     time += num\n",
    "        \n",
    "distance = ''\n",
    "for num in distance_data:\n",
    "    distance += num\n",
    "\n",
    "print('time', time)\n",
    "print('distance', distance)\n",
    "\n",
    "time = int(time)\n",
    "max_distance = int(distance)\n",
    "\n",
    "\n",
    "count = 0\n",
    "res = []\n",
    "for i in range(14, time + 1):\n",
    "#     print(i)\n",
    "    speed = i\n",
    "    current_distance = speed * (time - i)\n",
    "     \n",
    "    if current_distance > max_distance:\n",
    "        count += 1\n",
    "        \n",
    "    if count > 1 and current_distance < max_distance:\n",
    "        print('break')\n",
    "        break\n",
    "\n",
    "print('count', count)\n",
    "\n",
    "\n",
    "\n"
   ]
  },
  {
   "cell_type": "code",
   "execution_count": null,
   "id": "e80a0a42",
   "metadata": {},
   "outputs": [],
   "source": []
  }
 ],
 "metadata": {
  "kernelspec": {
   "display_name": "Python 3 (ipykernel)",
   "language": "python",
   "name": "python3"
  },
  "language_info": {
   "codemirror_mode": {
    "name": "ipython",
    "version": 3
   },
   "file_extension": ".py",
   "mimetype": "text/x-python",
   "name": "python",
   "nbconvert_exporter": "python",
   "pygments_lexer": "ipython3",
   "version": "3.11.5"
  }
 },
 "nbformat": 4,
 "nbformat_minor": 5
}
