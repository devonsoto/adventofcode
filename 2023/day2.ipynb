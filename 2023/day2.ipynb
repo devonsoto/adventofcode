{
 "cells": [
  {
   "cell_type": "markdown",
   "id": "8604b94f",
   "metadata": {},
   "source": [
    "# Day2"
   ]
  },
  {
   "cell_type": "code",
   "execution_count": 1,
   "id": "faf2b340",
   "metadata": {},
   "outputs": [],
   "source": [
    "In [1]: import numpy as np\n",
    "\n",
    "In [2]: import pandas as pd"
   ]
  },
  {
   "cell_type": "code",
   "execution_count": 94,
   "id": "29f8d835",
   "metadata": {},
   "outputs": [],
   "source": [
    "text_file = open('./day2.txt','r')"
   ]
  },
  {
   "cell_type": "code",
   "execution_count": 95,
   "id": "6f48b30d",
   "metadata": {},
   "outputs": [
    {
     "name": "stdout",
     "output_type": "stream",
     "text": [
      "2101\n"
     ]
    }
   ],
   "source": [
    "max_cubes = {'red': 12, 'green': 13, 'blue': 14}\n",
    "gameIDs = []\n",
    "for line in text_file:\n",
    "    line = line.strip()\n",
    "    \n",
    "    # seperate gameID in the line\n",
    "    game_id_arr = line.split(': ')\n",
    "    gameID = game_id_arr[0].split(' ')[1]\n",
    "    isSequenceValid = True\n",
    "    \n",
    "    # get rid of gameID and have the sets in an array\n",
    "    colors_data = game_id_arr[1].split(';')\n",
    "    \n",
    "    for reach in colors_data:\n",
    "        pair = reach.split(',')\n",
    "        for data in pair:\n",
    "            info = data.strip().split(' ')\n",
    "            num, color = info[0].strip(), info[1].strip()\n",
    "\n",
    "            \n",
    "            if max_cubes[color] < int(num):\n",
    "                isSequenceValid = False\n",
    "                break\n",
    "        \n",
    "        if not isSequenceValid:\n",
    "            break\n",
    "            \n",
    "\n",
    "        \n",
    "    if isSequenceValid:\n",
    "        gameIDs.append(int(gameID))\n",
    "\n",
    "\n",
    "print(sum(gameIDs))\n",
    "    "
   ]
  },
  {
   "cell_type": "code",
   "execution_count": null,
   "id": "0c0cc918",
   "metadata": {},
   "outputs": [],
   "source": []
  },
  {
   "cell_type": "code",
   "execution_count": null,
   "id": "e576b61b",
   "metadata": {},
   "outputs": [],
   "source": []
  }
 ],
 "metadata": {
  "kernelspec": {
   "display_name": "Python 3 (ipykernel)",
   "language": "python",
   "name": "python3"
  },
  "language_info": {
   "codemirror_mode": {
    "name": "ipython",
    "version": 3
   },
   "file_extension": ".py",
   "mimetype": "text/x-python",
   "name": "python",
   "nbconvert_exporter": "python",
   "pygments_lexer": "ipython3",
   "version": "3.11.5"
  }
 },
 "nbformat": 4,
 "nbformat_minor": 5
}
