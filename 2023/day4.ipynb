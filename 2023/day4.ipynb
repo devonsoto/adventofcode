{
 "cells": [
  {
   "cell_type": "markdown",
   "id": "b5dcfa2b",
   "metadata": {},
   "source": [
    "# Day 4"
   ]
  },
  {
   "cell_type": "code",
   "execution_count": 75,
   "id": "9d0f316d",
   "metadata": {},
   "outputs": [
    {
     "name": "stdout",
     "output_type": "stream",
     "text": [
      "15205\n"
     ]
    }
   ],
   "source": [
    "# part 1\n",
    "data = open('./day4.txt','r')\n",
    "\n",
    "res = 0\n",
    "for line in data:\n",
    "    line = line.strip()\n",
    "    info = line.split(':')\n",
    "    card_info = info[0]\n",
    "    drawings = info[1].split('|')\n",
    "    winnings = [int(num) for num in drawings[0].strip().split()]\n",
    "    my_draw = [int(num) for num in drawings[1].strip().split()]\n",
    "    \n",
    "    count = 0\n",
    "    for num in my_draw:\n",
    "        if num in winnings:\n",
    "            count += 1\n",
    "            \n",
    "    if count > 0:\n",
    "        res += 2 ** (count - 1)\n",
    "        \n",
    "\n",
    "print(res)\n",
    "\n",
    "\n",
    "\n"
   ]
  },
  {
   "cell_type": "code",
   "execution_count": 115,
   "id": "a4703fbb",
   "metadata": {},
   "outputs": [
    {
     "name": "stdout",
     "output_type": "stream",
     "text": [
      "6189738\n"
     ]
    }
   ],
   "source": [
    "# part 2\n",
    "import collections\n",
    "data = open('./day4.txt','r')\n",
    "\n",
    "obj = collections.defaultdict(lambda: 1)\n",
    "\n",
    "\n",
    "card_id = 1\n",
    "for line in data:\n",
    "    line = line.strip()\n",
    "    info = line.split(':')\n",
    "    card_info = info[0]\n",
    "    drawings = info[1].split('|')\n",
    "    winnings = [int(num) for num in drawings[0].strip().split()]\n",
    "    my_draw = [int(num) for num in drawings[1].strip().split()]\n",
    "    \n",
    "    count = 0\n",
    "    for num in my_draw:\n",
    "        if num in winnings:\n",
    "            count += 1\n",
    "    \n",
    "#     print('count', count)\n",
    "    for i in range(card_id + 1, card_id + count + 1):\n",
    "#         print('i', i)\n",
    "        \n",
    "        if card_id - 1 > 0:\n",
    "            obj[i] += obj[card_id]\n",
    "        \n",
    "        else:\n",
    "            obj[i] += 1\n",
    "        \n",
    "    \n",
    "    card_id += 1\n",
    "        \n",
    "\n",
    "    \n",
    "    \n",
    "    \n",
    "#     print(line)\n",
    "#     print(obj)\n",
    "\n",
    "print(sum(obj.values()))\n",
    "\n",
    "\n",
    "\n",
    "\n",
    "\n",
    "\n",
    "\n",
    "\n",
    "\n",
    "\n",
    "\n"
   ]
  },
  {
   "cell_type": "code",
   "execution_count": null,
   "id": "8cd27cd0",
   "metadata": {},
   "outputs": [],
   "source": []
  }
 ],
 "metadata": {
  "kernelspec": {
   "display_name": "Python 3 (ipykernel)",
   "language": "python",
   "name": "python3"
  },
  "language_info": {
   "codemirror_mode": {
    "name": "ipython",
    "version": 3
   },
   "file_extension": ".py",
   "mimetype": "text/x-python",
   "name": "python",
   "nbconvert_exporter": "python",
   "pygments_lexer": "ipython3",
   "version": "3.11.5"
  }
 },
 "nbformat": 4,
 "nbformat_minor": 5
}
